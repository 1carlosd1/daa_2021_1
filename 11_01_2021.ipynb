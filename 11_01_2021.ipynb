{
  "nbformat": 4,
  "nbformat_minor": 0,
  "metadata": {
    "colab": {
      "name": "11-01-2021.ipynb",
      "provenance": [],
      "authorship_tag": "ABX9TyPOuTimaWDfhswTdKp0VRPg",
      "include_colab_link": true
    },
    "kernelspec": {
      "name": "python3",
      "display_name": "Python 3"
    }
  },
  "cells": [
    {
      "cell_type": "markdown",
      "metadata": {
        "id": "view-in-github",
        "colab_type": "text"
      },
      "source": [
        "<a href=\"https://colab.research.google.com/github/1carlosd1/daa_2021_1/blob/master/11_01_2021.ipynb\" target=\"_parent\"><img src=\"https://colab.research.google.com/assets/colab-badge.svg\" alt=\"Open In Colab\"/></a>"
      ]
    },
    {
      "cell_type": "code",
      "metadata": {
        "id": "wHMCclKT75qh"
      },
      "source": [
        "class NodoArbol:\r\n",
        "  def __init__(self,value,left=None,rigth=None):\r\n",
        "    self.data=value\r\n",
        "    self.left=left\r\n",
        "    self.rigth=rigth"
      ],
      "execution_count": 3,
      "outputs": []
    },
    {
      "cell_type": "code",
      "metadata": {
        "id": "ANemW8Wn8rHF"
      },
      "source": [
        "#forma directa \r\n",
        "arbol=NodoArbol(\"R\",NodoArbol(\"c\"),NodoArbol(\"H\"))"
      ],
      "execution_count": 7,
      "outputs": []
    },
    {
      "cell_type": "code",
      "metadata": {
        "id": "WIssVC8q9wS6"
      },
      "source": [
        "#ora forma de declarar el arbol\r\n",
        "nodo1=NodoArbol(\"c\")\r\n",
        "nodo2=NodoArbol(\"H\")\r\n",
        "arbol_v2=NodoArbol(\"R\",nodo1,nodo2)"
      ],
      "execution_count": 5,
      "outputs": []
    },
    {
      "cell_type": "code",
      "metadata": {
        "colab": {
          "base_uri": "https://localhost:8080/"
        },
        "id": "YT0NAlSK-XeS",
        "outputId": "165726cc-719c-45ce-8a82-1e977e4557ae"
      },
      "source": [
        "print(arbol.rigth.data)\r\n",
        "print(arbol_v2.rigth.data)"
      ],
      "execution_count": 8,
      "outputs": [
        {
          "output_type": "stream",
          "text": [
            "H\n",
            "H\n"
          ],
          "name": "stdout"
        }
      ]
    },
    {
      "cell_type": "code",
      "metadata": {
        "colab": {
          "base_uri": "https://localhost:8080/"
        },
        "id": "9T6SVRNE--B3",
        "outputId": "25acfbaf-d001-4425-dec7-a9e3ef9e6b33"
      },
      "source": [
        "arbol2=NodoArbol(4,NodoArbol(3,NodoArbol(2,NodoArbol(2))),NodoArbol(5,None,None))\r\n",
        "print(arbol2.left.left.left.data)\r\n",
        "\r\n"
      ],
      "execution_count": 12,
      "outputs": [
        {
          "output_type": "stream",
          "text": [
            "2\n"
          ],
          "name": "stdout"
        }
      ]
    },
    {
      "cell_type": "code",
      "metadata": {
        "colab": {
          "base_uri": "https://localhost:8080/"
        },
        "id": "bSfYrkSzCWqO",
        "outputId": "fbfcc28a-e641-417f-8c7f-a8132869efbe"
      },
      "source": [
        "#OTRA FORMA DE ACEDER AL NODO HOJA (como el de arriba)\r\n",
        "aux=arbol2\r\n",
        "while aux.left !=None:\r\n",
        "  aux=aux.left\r\n",
        "\r\n",
        "print(aux.data)"
      ],
      "execution_count": 13,
      "outputs": [
        {
          "output_type": "stream",
          "text": [
            "2\n"
          ],
          "name": "stdout"
        }
      ]
    },
    {
      "cell_type": "code",
      "metadata": {
        "colab": {
          "base_uri": "https://localhost:8080/"
        },
        "id": "FMsb9p3vEkr2",
        "outputId": "3a363357-a814-4754-89db-048aa9636d56"
      },
      "source": [
        "arbol3=NodoArbol(\"Santi\",None,NodoArbol(\"Jesus\",NodoArbol(\"Pedro\",None,NodoArbol(\"Diana\")),None))\r\n",
        "print(arbol3.rigth.left.rigth.data)"
      ],
      "execution_count": 14,
      "outputs": [
        {
          "output_type": "stream",
          "text": [
            "Diana\n"
          ],
          "name": "stdout"
        }
      ]
    }
  ]
}