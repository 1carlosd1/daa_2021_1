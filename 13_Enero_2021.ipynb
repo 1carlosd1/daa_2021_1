{
  "nbformat": 4,
  "nbformat_minor": 0,
  "metadata": {
    "colab": {
      "name": "13-Enero-2021.ipynb",
      "provenance": [],
      "authorship_tag": "ABX9TyMXPMpYVVj4Nm9IG2e1QvC6",
      "include_colab_link": true
    },
    "kernelspec": {
      "name": "python3",
      "display_name": "Python 3"
    }
  },
  "cells": [
    {
      "cell_type": "markdown",
      "metadata": {
        "id": "view-in-github",
        "colab_type": "text"
      },
      "source": [
        "<a href=\"https://colab.research.google.com/github/1carlosd1/daa_2021_1/blob/master/13_Enero_2021.ipynb\" target=\"_parent\"><img src=\"https://colab.research.google.com/assets/colab-badge.svg\" alt=\"Open In Colab\"/></a>"
      ]
    },
    {
      "cell_type": "code",
      "metadata": {
        "id": "i37yhGXBMe1T"
      },
      "source": [
        "class NodoArbol:\r\n",
        "  def __init__(self,value,left=None,rigth=None):\r\n",
        "    self.data=value\r\n",
        "    self.left=left\r\n",
        "    self.rigth=rigth"
      ],
      "execution_count": 4,
      "outputs": []
    },
    {
      "cell_type": "markdown",
      "metadata": {
        "id": "eBPSSQsjMoV8"
      },
      "source": [
        "#ARBOL BINARIO DE BUSQUEDA\r\n",
        "Los nodos a la izq son menores y los nodos a la derecha son mayores a la raiz puede ser recorridos en:pre-orden,in-oden y post-orden\r\n"
      ]
    },
    {
      "cell_type": "code",
      "metadata": {
        "id": "LQ87S3BzS3VY"
      },
      "source": [
        "class BinarySearchTree:\r\n",
        "  def __init__(self):\r\n",
        "    self.__root=None\r\n",
        "\r\n",
        "  def insert(self,value):\r\n",
        "    if self.__root==None:\r\n",
        "      self.__root=NodoArbol(value,None,None)\r\n",
        "    else:\r\n",
        "      #preguntar si value es menor que root,de ser el caso\r\n",
        "      #insertar a la izq, pero... puede ser el caso que el \r\n",
        "      #sub arbol izq ya tenga muchos elementos \r\n",
        "      self.__insert_nodo__( self.__root,value)\r\n",
        "\r\n",
        "  def __insert_nodo__(self,nodo,value):\r\n",
        "    if nodo.dato==value:\r\n",
        "      pass\r\n",
        "    elif value < nodo.dato:   #si es true va a la izq\r\n",
        "      if nodo.left==None:   #si hay espacio en la izq, ahi va \r\n",
        "        nodo.left=NodoArbol(value,None, None)  #insertamos el nodo \r\n",
        "      else:\r\n",
        "        self.__insert_nodo__(nodo.left,value)  #buscar su pocision en sub arbol izq\r\n",
        "\r\n",
        "    else:\r\n",
        "      if nodo.right==None:\r\n",
        "        nodo.right=NodoArbol(value,None,None)\r\n",
        "\r\n",
        "      else:\r\n",
        "        self.__insert_nodo__(nodo.right,value)  #buscar en elarbol der \r\n",
        "\r\n",
        "    \r\n",
        "\r\n",
        "\r\n",
        "\r\n",
        "\r\n",
        "  "
      ],
      "execution_count": 3,
      "outputs": []
    },
    {
      "cell_type": "code",
      "metadata": {
        "id": "MGtZuGugbuqU"
      },
      "source": [
        "bst=BinarySearchTree()\r\n",
        "bst.insert(50)\r\n",
        "bst.insert(30)\r\n",
        "bst.insert(20)\r\n",
        "bst.search(30)# true o false?"
      ],
      "execution_count": null,
      "outputs": []
    }
  ]
}