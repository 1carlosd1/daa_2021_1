{
  "nbformat": 4,
  "nbformat_minor": 0,
  "metadata": {
    "colab": {
      "name": "21 de Octubre.ipynb",
      "provenance": [],
      "authorship_tag": "ABX9TyNbANutJx6VlRqCVhtDQGvl",
      "include_colab_link": true
    },
    "kernelspec": {
      "name": "python3",
      "display_name": "Python 3"
    }
  },
  "cells": [
    {
      "cell_type": "markdown",
      "metadata": {
        "id": "view-in-github",
        "colab_type": "text"
      },
      "source": [
        "<a href=\"https://colab.research.google.com/github/1carlosd1/daa_2021_1/blob/master/23deOctubre.ipynb\" target=\"_parent\"><img src=\"https://colab.research.google.com/assets/colab-badge.svg\" alt=\"Open In Colab\"/></a>"
      ]
    },
    {
      "cell_type": "code",
      "metadata": {
        "id": "LPkRiazBfHHY",
        "outputId": "dda990a8-6d55-4b16-aa26-3b8d2b850921",
        "colab": {
          "base_uri": "https://localhost:8080/",
          "height": 34
        }
      },
      "source": [
        "def ejemplo1( n ):\n",
        "    c = n + 1\n",
        "    d = c * n\n",
        "    e = n * n\n",
        "    total = c + e - d\n",
        "    print(f\"total={ total }\")\n",
        "ejemplo1( 100 )\n",
        "\n",
        "#FUNCION T(n)=4"
      ],
      "execution_count": null,
      "outputs": [
        {
          "output_type": "stream",
          "text": [
            "total=1\n"
          ],
          "name": "stdout"
        }
      ]
    },
    {
      "cell_type": "code",
      "metadata": {
        "id": "qklmrS3VagtK",
        "outputId": "15b43c6d-dc71-479c-cbcc-5fca6ae7b8fa",
        "colab": {
          "base_uri": "https://localhost:8080/",
          "height": 34
        }
      },
      "source": [
        "def ejemplo2( n ):\n",
        "    contador = 0\n",
        "    for i in range( n ) :\n",
        "        for j in range( n ) :\n",
        "            contador += 1\n",
        "    return contador\n",
        "\n",
        "ejemplo2( 5000 )\n",
        "#FUNCION T(n)= 1+n^2"
      ],
      "execution_count": null,
      "outputs": [
        {
          "output_type": "execute_result",
          "data": {
            "text/plain": [
              "25000000"
            ]
          },
          "metadata": {
            "tags": []
          },
          "execution_count": 3
        }
      ]
    },
    {
      "cell_type": "code",
      "metadata": {
        "id": "Z9LS1iKrcN1-",
        "outputId": "e445894d-3b8a-453b-def0-dcdb2e9014bd",
        "colab": {
          "base_uri": "https://localhost:8080/",
          "height": 34
        }
      },
      "source": [
        "def ejemplo3(n):#n=4\n",
        "  x=n*2 #x=8\n",
        "  y=0\n",
        "  for m in range(100):\n",
        "    y=x-n \n",
        "  return y\n",
        "\n",
        "ejemplo3(100000)\n",
        "#no importa que tan grande sea 'n' el for ya esta fijo al realizarse con 100 \n",
        "#FUNCION T(n)=102"
      ],
      "execution_count": null,
      "outputs": [
        {
          "output_type": "execute_result",
          "data": {
            "text/plain": [
              "100000"
            ]
          },
          "metadata": {
            "tags": []
          },
          "execution_count": 10
        }
      ]
    },
    {
      "cell_type": "code",
      "metadata": {
        "id": "XnGsdenHfo_S",
        "outputId": "170d2ba3-0da1-4e11-850c-9b9326610e31",
        "colab": {
          "base_uri": "https://localhost:8080/",
          "height": 34
        }
      },
      "source": [
        "def ejemplo4( n ):\n",
        "    x = 3 * 3.1416 + n\n",
        "    y = x + 3 * 3 - n\n",
        "    z = x + y\n",
        "    return z\n",
        "\n",
        "ejemplo4(9)\n",
        "#FUNCION T(n)=3"
      ],
      "execution_count": null,
      "outputs": [
        {
          "output_type": "execute_result",
          "data": {
            "text/plain": [
              "36.849599999999995"
            ]
          },
          "metadata": {
            "tags": []
          },
          "execution_count": 11
        }
      ]
    },
    {
      "cell_type": "code",
      "metadata": {
        "id": "fB3b67u2gQr6",
        "outputId": "75b1f761-479c-4979-ce05-41b5fa8117f2",
        "colab": {
          "base_uri": "https://localhost:8080/",
          "height": 34
        }
      },
      "source": [
        "def ejemplo5( x ):\n",
        "    n = 10\n",
        "    for j in range( 0 , x , 1 ):\n",
        "        n = j + n\n",
        "    return n\n",
        "\n",
        "ejemplo5(1000000)\n",
        "\n",
        "#FUNCION T(x)=1+x\n",
        "#la variable queahora recibe es x no irte con la finta que es n"
      ],
      "execution_count": null,
      "outputs": [
        {
          "output_type": "execute_result",
          "data": {
            "text/plain": [
              "499999500010"
            ]
          },
          "metadata": {
            "tags": []
          },
          "execution_count": 14
        }
      ]
    },
    {
      "cell_type": "code",
      "metadata": {
        "id": "inKXXKSJibZr",
        "outputId": "bdf8d0f8-8380-47eb-ce46-da8e06d8ddbd",
        "colab": {
          "base_uri": "https://localhost:8080/",
          "height": 34
        }
      },
      "source": [
        "def ejemplo6( n ):\n",
        "    data=[[[1 for x in range(n)] for x in range(n)]\n",
        "          for x in range(n)]\n",
        "    suma = 0\n",
        "    for d in range(n):\n",
        "        for r in range(n):\n",
        "            for c in range(n):\n",
        "                suma += data[d][r][c]\n",
        "    return suma\n",
        "print(ejemplo6(1000 ))\n",
        "#Funcion T(n)=2+n^3"
      ],
      "execution_count": null,
      "outputs": [
        {
          "output_type": "stream",
          "text": [
            "1000000000\n"
          ],
          "name": "stdout"
        }
      ]
    },
    {
      "cell_type": "code",
      "metadata": {
        "id": "W8X97sm3nrBS",
        "outputId": "45354a1b-3f8e-426b-c905-c239bbb10b95",
        "colab": {
          "base_uri": "https://localhost:8080/",
          "height": 51
        }
      },
      "source": [
        "from time import time\n",
        "\n",
        "def ejemplo6( n ):\n",
        "    start_time = time()\n",
        "    data=[[[1 for x in range(n)] for x in range(n)] \n",
        "          for x in range(n)]\n",
        "    suma = 0\n",
        "    for d in range(n):\n",
        "        for r in range(n):\n",
        "            for c in range(n):\n",
        "                suma += data[d][r][c]\n",
        "    elapsed_time = time() - start_time\n",
        "    print(\"Tiempo transcurrido: %0.10f segundos.\" % elapsed_time)\n",
        "    return suma\n",
        "ejemplo6( 500 )"
      ],
      "execution_count": null,
      "outputs": [
        {
          "output_type": "stream",
          "text": [
            "Tiempo transcurrido: 18.0242636204 segundos.\n"
          ],
          "name": "stdout"
        },
        {
          "output_type": "execute_result",
          "data": {
            "text/plain": [
              "125000000"
            ]
          },
          "metadata": {
            "tags": []
          },
          "execution_count": 23
        }
      ]
    },
    {
      "cell_type": "code",
      "metadata": {
        "id": "QvmRwoCFezYD",
        "outputId": "169b6984-1587-4dc6-c515-490dbe709357",
        "colab": {
          "base_uri": "https://localhost:8080/",
          "height": 34
        }
      },
      "source": [
        "def ejemplo7( n ):\n",
        "  count = 0\n",
        "  for i in range( n ) :\n",
        "    for j in range( 25 ) :\n",
        "      for k in range( n ):\n",
        "        count += 1\n",
        "  return count\n",
        "ejemplo7(4)\n",
        "#FUNCION T(n)= n+25n^2"
      ],
      "execution_count": 1,
      "outputs": [
        {
          "output_type": "execute_result",
          "data": {
            "text/plain": [
              "400"
            ]
          },
          "metadata": {
            "tags": []
          },
          "execution_count": 1
        }
      ]
    },
    {
      "cell_type": "code",
      "metadata": {
        "id": "ZvFe5aeH1UUr",
        "outputId": "58b406fe-4cbd-4b02-d1f2-afb2f703b106",
        "colab": {
          "base_uri": "https://localhost:8080/",
          "height": 34
        }
      },
      "source": [
        "def ejemplo7_2( n ):\n",
        "  count = 1\n",
        "  for i in range( n ) :\n",
        "    for j in range( 25 ) :\n",
        "      for k in range( n ):\n",
        "        count += 1\n",
        "      for k in range( n ):\n",
        "        count += 1\n",
        "  return count \n",
        "  # Funcion T(n)= 1 + 25n^2 +25n^2\n",
        "  #los dos primeros for afectan de igual manera a los dos for de abajo \n",
        "ejemplo7_2(3)\n",
        "\n"
      ],
      "execution_count": 3,
      "outputs": [
        {
          "output_type": "execute_result",
          "data": {
            "text/plain": [
              "451"
            ]
          },
          "metadata": {
            "tags": []
          },
          "execution_count": 3
        }
      ]
    },
    {
      "cell_type": "code",
      "metadata": {
        "id": "5gdD-Gqv3kxY"
      },
      "source": [
        "def ejemplo8( numeros ): # numeros es una lista (arreglo en c)\n",
        "  total = 0\n",
        "  for index in range(len(numeros)):\n",
        "    total = numeros[index]\n",
        "  return total\n",
        "ejemplo8(numeros)\n",
        "\n",
        "#funcion T(n)=1+n\n",
        "# botacion big O 0(n)=n"
      ],
      "execution_count": null,
      "outputs": []
    },
    {
      "cell_type": "code",
      "metadata": {
        "id": "jrxHTLa14rRN",
        "outputId": "a995c3bd-0ca0-432c-da15-a0b1ac8e3903",
        "colab": {
          "base_uri": "https://localhost:8080/",
          "height": 34
        }
      },
      "source": [
        "def ejemplo9(  n ):\n",
        "  contador = 0\n",
        "  basura = 0\n",
        "  for i in range( n ) :\n",
        "    contador += 1\n",
        "  for j in range( n ) :\n",
        "    contador += 1\n",
        "  basura = basura + contador\n",
        "  return contador\n",
        "# funcion 3 + 2n\n",
        "\n",
        "print(ejemplo9( 5 ))"
      ],
      "execution_count": 4,
      "outputs": [
        {
          "output_type": "stream",
          "text": [
            "10\n"
          ],
          "name": "stdout"
        }
      ]
    },
    {
      "cell_type": "code",
      "metadata": {
        "id": "2KI8WVDw4zLM",
        "outputId": "18daf2d4-3731-413b-9ef6-32ec5c0d89bc",
        "colab": {
          "base_uri": "https://localhost:8080/",
          "height": 34
        }
      },
      "source": [
        "def ejemplo10( n ):\n",
        "  count = 0\n",
        "  for i in range( n ) :\n",
        "    for j in range( i+1 ) :\n",
        "      count += 1\n",
        "  return count\n",
        "ejemplo10(5)\n",
        "#funcion "
      ],
      "execution_count": 5,
      "outputs": [
        {
          "output_type": "execute_result",
          "data": {
            "text/plain": [
              "15"
            ]
          },
          "metadata": {
            "tags": []
          },
          "execution_count": 5
        }
      ]
    }
  ]
}