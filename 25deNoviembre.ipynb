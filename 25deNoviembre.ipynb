{
  "nbformat": 4,
  "nbformat_minor": 0,
  "metadata": {
    "colab": {
      "name": "25deNoviembre.ipynb",
      "provenance": [],
      "authorship_tag": "ABX9TyPK0C5Im5nQ52AL+9Tw2pBI",
      "include_colab_link": true
    },
    "kernelspec": {
      "name": "python3",
      "display_name": "Python 3"
    }
  },
  "cells": [
    {
      "cell_type": "markdown",
      "metadata": {
        "id": "view-in-github",
        "colab_type": "text"
      },
      "source": [
        "<a href=\"https://colab.research.google.com/github/1carlosd1/daa_2021_1/blob/master/25deNoviembre.ipynb\" target=\"_parent\"><img src=\"https://colab.research.google.com/assets/colab-badge.svg\" alt=\"Open In Colab\"/></a>"
      ]
    },
    {
      "cell_type": "code",
      "metadata": {
        "colab": {
          "base_uri": "https://localhost:8080/"
        },
        "id": "_E7ryrPd6NRR",
        "outputId": "43d577c4-400a-4e61-fdb6-f786e6b3bcb4"
      },
      "source": [
        "frase= \"\"\"El lema que anima a la Universidad Nacional, Por mi raza hablará el espíritu, revela la vocación humanística con la que fue concebida. El autor de esta célebre frase, José Vasconcelos, asumió la rectoría en 1920, en una época en que las esperanzas de la Revolución aún estaban vivas,\n",
        " había una gran fé en la Patria y el ánimo redentor se extendía en el ambiente.\"\"\"\n",
        "\n",
        "frase = frase.strip().replace(\"\\n\", \" \").replace(\",\",\" \").replace(\".\",\"\").lower().split(\" \")\n",
        "print (frase)\n",
        "frecuencias= {}\n",
        "for index in range (len(frase)):\n",
        "    if frase[index] in frecuencias: #'el' in frecuencias:\n",
        "        pass\n",
        "    else: \n",
        "        frecuencias[frase[index]] =  1\n",
        "\n",
        "        for pivote in range (index +1, len(frase),1):\n",
        "          # print (frase[index], \"Comparada contra: \", frase[ pivote ])\n",
        "          if frase [index] == frase[pivote]:\n",
        "              frecuencias[frase[index]] += 1\n",
        "\n",
        "print (frecuencias)"
      ],
      "execution_count": 4,
      "outputs": [
        {
          "output_type": "stream",
          "text": [
            "['el', 'lema', 'que', 'anima', 'a', 'la', 'universidad', 'nacional', '', 'por', 'mi', 'raza', 'hablará', 'el', 'espíritu', '', 'revela', 'la', 'vocación', 'humanística', 'con', 'la', 'que', 'fue', 'concebida', 'el', 'autor', 'de', 'esta', 'célebre', 'frase', '', 'josé', 'vasconcelos', '', 'asumió', 'la', 'rectoría', 'en', '1920', '', 'en', 'una', 'época', 'en', 'que', 'las', 'esperanzas', 'de', 'la', 'revolución', 'aún', 'estaban', 'vivas', '', '', 'había', 'una', 'gran', 'fé', 'en', 'la', 'patria', 'y', 'el', 'ánimo', 'redentor', 'se', 'extendía', 'en', 'el', 'ambiente']\n",
            "{'el': 5, 'lema': 1, 'que': 3, 'anima': 1, 'a': 1, 'la': 6, 'universidad': 1, 'nacional': 1, '': 7, 'por': 1, 'mi': 1, 'raza': 1, 'hablará': 1, 'espíritu': 1, 'revela': 1, 'vocación': 1, 'humanística': 1, 'con': 1, 'fue': 1, 'concebida': 1, 'autor': 1, 'de': 2, 'esta': 1, 'célebre': 1, 'frase': 1, 'josé': 1, 'vasconcelos': 1, 'asumió': 1, 'rectoría': 1, 'en': 5, '1920': 1, 'una': 2, 'época': 1, 'las': 1, 'esperanzas': 1, 'revolución': 1, 'aún': 1, 'estaban': 1, 'vivas': 1, 'había': 1, 'gran': 1, 'fé': 1, 'patria': 1, 'y': 1, 'ánimo': 1, 'redentor': 1, 'se': 1, 'extendía': 1, 'ambiente': 1}\n"
          ],
          "name": "stdout"
        }
      ]
    },
    {
      "cell_type": "code",
      "metadata": {
        "colab": {
          "base_uri": "https://localhost:8080/"
        },
        "id": "ZGVYOQwjFhKl",
        "outputId": "1a6be93d-9202-4784-f31e-78bd825c5834"
      },
      "source": [
        "frase= \"\"\"El lema que anima a la Universidad Nacional, Por mi raza hablará el espíritu, revela la vocación humanística con la que fue concebida. El autor de esta célebre frase, José Vasconcelos, asumió la rectoría en 1920, en una época en que las esperanzas de la Revolución aún estaban vivas,\n",
        " había una gran fé en la Patria y el ánimo redentor se extendía en el ambiente.\"\"\"\n",
        "frase = frase.strip().replace(\"\\n\", \" \").replace(\",\",\" \").replace(\".\",\"\").lower().split(\" \")\n",
        "print (frase)\n",
        "frecuencias={}\n",
        "for index in range(len(frase)):\n",
        "  print(hash(frase[index]))\n",
        "  if frase[index] in frecuencias:\n",
        "    frecuencias[frase[index]]+=1\n",
        "  else:\n",
        "    frecuencias[frase[index]]=1\n",
        "\n",
        "print(frecuencias)"
      ],
      "execution_count": 7,
      "outputs": [
        {
          "output_type": "stream",
          "text": [
            "['el', 'lema', 'que', 'anima', 'a', 'la', 'universidad', 'nacional', '', 'por', 'mi', 'raza', 'hablará', 'el', 'espíritu', '', 'revela', 'la', 'vocación', 'humanística', 'con', 'la', 'que', 'fue', 'concebida', 'el', 'autor', 'de', 'esta', 'célebre', 'frase', '', 'josé', 'vasconcelos', '', 'asumió', 'la', 'rectoría', 'en', '1920', '', 'en', 'una', 'época', 'en', 'que', 'las', 'esperanzas', 'de', 'la', 'revolución', 'aún', 'estaban', 'vivas', '', '', 'había', 'una', 'gran', 'fé', 'en', 'la', 'patria', 'y', 'el', 'ánimo', 'redentor', 'se', 'extendía', 'en', 'el', 'ambiente']\n",
            "-6324662765108068515\n",
            "-7474407191060082483\n",
            "-1041974303569291145\n",
            "4783184533204501239\n",
            "3810366374542708166\n",
            "-8766698742322236824\n",
            "8481103356074566364\n",
            "-8167887307031864687\n",
            "0\n",
            "8138669079594661537\n",
            "575954154606671992\n",
            "-975039658991760355\n",
            "-4864038254262545390\n",
            "-6324662765108068515\n",
            "832436822152833796\n",
            "0\n",
            "-4783565777732750383\n",
            "-8766698742322236824\n",
            "840745388025895673\n",
            "-6349461306837832032\n",
            "-3179351816058280577\n",
            "-8766698742322236824\n",
            "-1041974303569291145\n",
            "3154924525971580806\n",
            "-1895549952363972709\n",
            "-6324662765108068515\n",
            "2398070620782138150\n",
            "-2644808293618673547\n",
            "9079881489238791712\n",
            "-2953670100663435739\n",
            "3794366144686715048\n",
            "0\n",
            "-4189439458057989967\n",
            "8957226294790349003\n",
            "0\n",
            "673913104667756221\n",
            "-8766698742322236824\n",
            "-6388365254363327567\n",
            "2933783665418042817\n",
            "-7936008960795972345\n",
            "0\n",
            "2933783665418042817\n",
            "-3853565996392437398\n",
            "-494300009224553141\n",
            "2933783665418042817\n",
            "-1041974303569291145\n",
            "-5705456709119213435\n",
            "1550562418048596781\n",
            "-2644808293618673547\n",
            "-8766698742322236824\n",
            "904106325758370752\n",
            "4835759968956328224\n",
            "6390506083848048633\n",
            "5873329054095868544\n",
            "0\n",
            "0\n",
            "-5350632515867635913\n",
            "-3853565996392437398\n",
            "7957910000563335682\n",
            "8507574316503264474\n",
            "2933783665418042817\n",
            "-8766698742322236824\n",
            "-7889395026620120284\n",
            "-5144491603148603394\n",
            "-6324662765108068515\n",
            "-8483935548406307532\n",
            "-2621889072922587840\n",
            "4509685016384151759\n",
            "-2946753981992849050\n",
            "2933783665418042817\n",
            "-6324662765108068515\n",
            "-7855934070996243251\n",
            "{'el': 5, 'lema': 1, 'que': 3, 'anima': 1, 'a': 1, 'la': 6, 'universidad': 1, 'nacional': 1, '': 7, 'por': 1, 'mi': 1, 'raza': 1, 'hablará': 1, 'espíritu': 1, 'revela': 1, 'vocación': 1, 'humanística': 1, 'con': 1, 'fue': 1, 'concebida': 1, 'autor': 1, 'de': 2, 'esta': 1, 'célebre': 1, 'frase': 1, 'josé': 1, 'vasconcelos': 1, 'asumió': 1, 'rectoría': 1, 'en': 5, '1920': 1, 'una': 2, 'época': 1, 'las': 1, 'esperanzas': 1, 'revolución': 1, 'aún': 1, 'estaban': 1, 'vivas': 1, 'había': 1, 'gran': 1, 'fé': 1, 'patria': 1, 'y': 1, 'ánimo': 1, 'redentor': 1, 'se': 1, 'extendía': 1, 'ambiente': 1}\n"
          ],
          "name": "stdout"
        }
      ]
    }
  ]
}