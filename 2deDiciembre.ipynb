{
  "nbformat": 4,
  "nbformat_minor": 0,
  "metadata": {
    "colab": {
      "name": "2deDiciembre.ipynb",
      "provenance": [],
      "authorship_tag": "ABX9TyMlXfMxJXEyQHr96/ssv161",
      "include_colab_link": true
    },
    "kernelspec": {
      "name": "python3",
      "display_name": "Python 3"
    }
  },
  "cells": [
    {
      "cell_type": "markdown",
      "metadata": {
        "id": "view-in-github",
        "colab_type": "text"
      },
      "source": [
        "<a href=\"https://colab.research.google.com/github/1carlosd1/daa_2021_1/blob/master/2deDiciembre.ipynb\" target=\"_parent\"><img src=\"https://colab.research.google.com/assets/colab-badge.svg\" alt=\"Open In Colab\"/></a>"
      ]
    },
    {
      "cell_type": "code",
      "metadata": {
        "id": "Hcx84fW9_mOg"
      },
      "source": [
        "def fnrecinfinita():\n",
        "  print(\"hola\")\n",
        "  fnrecinfinita()\n",
        "  "
      ],
      "execution_count": 1,
      "outputs": []
    },
    {
      "cell_type": "code",
      "metadata": {
        "id": "rEreqHC1AH4J"
      },
      "source": [
        "fnrecinfinita()"
      ],
      "execution_count": null,
      "outputs": []
    },
    {
      "cell_type": "code",
      "metadata": {
        "colab": {
          "base_uri": "https://localhost:8080/"
        },
        "id": "a4xeEg9tAp7g",
        "outputId": "957dbe7f-0eb1-4bdb-93c9-b033c5a01740"
      },
      "source": [
        "def fnrec(x):\n",
        "  if x==0:\n",
        "    print(\"stop\")\n",
        "  else:\n",
        "    print(x)\n",
        "    fnrec(x-1)\n",
        "    \n",
        "\n",
        "\n",
        "def main():\n",
        "  print(\"inicio del programa\")\n",
        "  fnrec(5)\n",
        "  print(\"fin del programa\")\n",
        "main()"
      ],
      "execution_count": 10,
      "outputs": [
        {
          "output_type": "stream",
          "text": [
            "inicio del programa\n",
            "5\n",
            "4\n",
            "3\n",
            "2\n",
            "1\n",
            "stop\n",
            "fin del programa\n"
          ],
          "name": "stdout"
        }
      ]
    },
    {
      "cell_type": "code",
      "metadata": {
        "colab": {
          "base_uri": "https://localhost:8080/"
        },
        "id": "Q7e1n5qqBpIG",
        "outputId": "a5f1a3b9-d876-4cdc-dfc4-e254f50d3067"
      },
      "source": [
        "def printrev(x):\n",
        "  if x>0:\n",
        "    printrev(x-1)\n",
        "    print(x)\n",
        "    \n",
        "    \n",
        "printrev(3)"
      ],
      "execution_count": 8,
      "outputs": [
        {
          "output_type": "stream",
          "text": [
            "1\n",
            "2\n",
            "3\n"
          ],
          "name": "stdout"
        }
      ]
    },
    {
      "cell_type": "code",
      "metadata": {
        "colab": {
          "base_uri": "https://localhost:8080/"
        },
        "id": "tELwquCXIr1Z",
        "outputId": "5b3ef7b8-df61-47fa-da82-71ba13f2310e"
      },
      "source": [
        "def fibonacci(n):\n",
        "  if n==1 or n==0:\n",
        "    return n\n",
        "  else:\n",
        "    return (fibonacci(n-1)+ fibonacci(n-2))\n",
        "\n",
        "print(fibonacci(8))"
      ],
      "execution_count": 11,
      "outputs": [
        {
          "output_type": "stream",
          "text": [
            "21\n"
          ],
          "name": "stdout"
        }
      ]
    }
  ]
}