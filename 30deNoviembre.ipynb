{
  "nbformat": 4,
  "nbformat_minor": 0,
  "metadata": {
    "colab": {
      "name": "30deNoviembre.ipynb",
      "provenance": [],
      "authorship_tag": "ABX9TyP5Z6Z9QH3S2wFm11WKQRMq",
      "include_colab_link": true
    },
    "kernelspec": {
      "name": "python3",
      "display_name": "Python 3"
    }
  },
  "cells": [
    {
      "cell_type": "markdown",
      "metadata": {
        "id": "view-in-github",
        "colab_type": "text"
      },
      "source": [
        "<a href=\"https://colab.research.google.com/github/1carlosd1/daa_2021_1/blob/master/30deNoviembre.ipynb\" target=\"_parent\"><img src=\"https://colab.research.google.com/assets/colab-badge.svg\" alt=\"Open In Colab\"/></a>"
      ]
    },
    {
      "cell_type": "code",
      "metadata": {
        "colab": {
          "base_uri": "https://localhost:8080/"
        },
        "id": "mkEyu2Gcorsr",
        "outputId": "b38f18d5-b6db-4d63-8713-190ee3999fa0"
      },
      "source": [
        "A = \"AELASESLALSALSALSALSALSALASLSLSLSLSALALALALASALSALLSALAS\"\n",
        "P = \"LAS\"\n",
        "N=len(A)\n",
        "M=len(P)\n",
        "def fuerza_bruta(A,P):\n",
        "  for i in range(N-M+1):\n",
        "    for j in range(M):\n",
        "      if A[i+j] != P[j]:\n",
        "        break\n",
        "      else:\n",
        "        pass\n",
        "    if j+1 == M and A[i+j]==P[j]:\n",
        "      print(\"encontrado enla posicion\",i)\n",
        "fuerza_bruta(A,P)\n",
        "#O((N-M)*M)"
      ],
      "execution_count": 6,
      "outputs": [
        {
          "output_type": "stream",
          "text": [
            "encontrado enla posicion 2\n",
            "encontrado enla posicion 24\n",
            "encontrado enla posicion 42\n",
            "encontrado enla posicion 53\n"
          ],
          "name": "stdout"
        }
      ]
    }
  ]
}