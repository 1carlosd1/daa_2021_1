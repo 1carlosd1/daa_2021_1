{
  "nbformat": 4,
  "nbformat_minor": 0,
  "metadata": {
    "colab": {
      "name": "5deOctubre_daa.ipynb",
      "provenance": [],
      "authorship_tag": "ABX9TyPENhJLswH3YWFmWoNy1XGa",
      "include_colab_link": true
    },
    "kernelspec": {
      "name": "python3",
      "display_name": "Python 3"
    }
  },
  "cells": [
    {
      "cell_type": "markdown",
      "metadata": {
        "id": "view-in-github",
        "colab_type": "text"
      },
      "source": [
        "<a href=\"https://colab.research.google.com/github/1carlosd1/daa_2021_1/blob/master/5deOctubre_daa.ipynb\" target=\"_parent\"><img src=\"https://colab.research.google.com/assets/colab-badge.svg\" alt=\"Open In Colab\"/></a>"
      ]
    },
    {
      "cell_type": "markdown",
      "metadata": {
        "id": "ghkaV7x-AAJJ"
      },
      "source": [
        "#Estructura de datos pilas (Stack)\n",
        "- lifo- last in first out\n",
        "- es de tipo lineal\n",
        "- se pueden obtener e ingresar datos desde el tope\n",
        "- push para agregar \n",
        "- pop para sacar  \n",
        "\n",
        "## operaciones de las pilas \n",
        "1. is_empty (regresa un true o false, para ver si esta vacia)\n",
        "1. get_top (regresa el elemento en el tope SIN SACARLO)\n",
        "1. poo(saca el elemento del tope y lo regresa)\n",
        "1. push (mete un elemto en el tope )\n",
        "1. get_length(ingresa el numero de elementos de la pila)"
      ]
    },
    {
      "cell_type": "code",
      "metadata": {
        "id": "IHZIgEpZ_JSl"
      },
      "source": [
        "#Estructura de datos pilas (Stack)\n",
        "class Stack:\n",
        "  def __init__(self):\n",
        "    self.__datos=[]\n",
        "\n",
        "  def is_empty(self):\n",
        "    return len(self.__datos)==0\n",
        "\n",
        "  def get_top(self):\n",
        "    return self.__datos[-1]\n",
        "\n",
        "  def pop(self):\n",
        "    return self.__datos.pop()\n",
        "\n",
        "  def push(self,valor):\n",
        "    self.__datos.append(valor)\n",
        "\n",
        "  def get_length(self):\n",
        "    return len(self.__datos)\n",
        "\n",
        "  def to_string(self):\n",
        "    print(\"|------------------|\")\n",
        "    for j in self.__datos[-1::-1]:\n",
        "      print(j)\n",
        "      print(\"|------------------|\\n\")\n",
        "\n",
        "\n",
        "\n",
        "  \n"
      ],
      "execution_count": 9,
      "outputs": []
    },
    {
      "cell_type": "code",
      "metadata": {
        "id": "HUUP7HvNFahA",
        "outputId": "9cde56fc-9f17-4b53-d780-923efbad530e",
        "colab": {
          "base_uri": "https://localhost:8080/",
          "height": 799
        }
      },
      "source": [
        "pila1=Stack()\n",
        "pila1.push(10)\n",
        "pila1.push(20)\n",
        "pila1.push(1)\n",
        "pila1.push(393)\n",
        "pila1.push(103)\n",
        "pila1.to_string()\n",
        "\n",
        "sacado=pila1.pop()\n",
        "print(sacado)\n",
        "pila1.to_string()\n",
        "\n",
        "\n",
        "print(f\"EL ELEMENTO EN EL TOPE ES:{pila1.get_top()}\")\n",
        "pila1.to_string()\n",
        "print(f\"La pila tiene {pila1.get_length()} elementos\")\n",
        "print(f\"¿La pila esta vacía?: { pila1.is_empty() } \")"
      ],
      "execution_count": 11,
      "outputs": [
        {
          "output_type": "stream",
          "text": [
            "|------------------|\n",
            "103\n",
            "|------------------|\n",
            "\n",
            "393\n",
            "|------------------|\n",
            "\n",
            "1\n",
            "|------------------|\n",
            "\n",
            "20\n",
            "|------------------|\n",
            "\n",
            "10\n",
            "|------------------|\n",
            "\n",
            "103\n",
            "|------------------|\n",
            "393\n",
            "|------------------|\n",
            "\n",
            "1\n",
            "|------------------|\n",
            "\n",
            "20\n",
            "|------------------|\n",
            "\n",
            "10\n",
            "|------------------|\n",
            "\n",
            "EL ELEMENTO EN EL TOPE ES:393\n",
            "|------------------|\n",
            "393\n",
            "|------------------|\n",
            "\n",
            "1\n",
            "|------------------|\n",
            "\n",
            "20\n",
            "|------------------|\n",
            "\n",
            "10\n",
            "|------------------|\n",
            "\n",
            "La pila tiene 4 elementos\n",
            "¿La pila esta vacía?: False \n"
          ],
          "name": "stdout"
        }
      ]
    }
  ]
}