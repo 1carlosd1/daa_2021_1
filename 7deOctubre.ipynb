{
  "nbformat": 4,
  "nbformat_minor": 0,
  "metadata": {
    "colab": {
      "name": "7deOctubre.ipynb",
      "provenance": [],
      "authorship_tag": "ABX9TyPbjMRTXoqe9dzsHeFjkZG1",
      "include_colab_link": true
    },
    "kernelspec": {
      "name": "python3",
      "display_name": "Python 3"
    }
  },
  "cells": [
    {
      "cell_type": "markdown",
      "metadata": {
        "id": "view-in-github",
        "colab_type": "text"
      },
      "source": [
        "<a href=\"https://colab.research.google.com/github/1carlosd1/daa_2021_1/blob/master/7deOctubre.ipynb\" target=\"_parent\"><img src=\"https://colab.research.google.com/assets/colab-badge.svg\" alt=\"Open In Colab\"/></a>"
      ]
    },
    {
      "cell_type": "markdown",
      "metadata": {
        "id": "8UkxCYmmWLsw"
      },
      "source": [
        "# Busqueda lineal\n",
        "dada un conjuntode datos no ordenados consuste en recorer el conjunto de datos desde el inicio al final, moviendose de uno a uno hasta encontrar el elemento o llegar al final del conjunto.\n",
        "\n",
        "datos = [ 4,18,47,2,34,14,78,12,48,21,31,19,1,3,5]\n",
        "\n",
        "\n",
        "#busqueda binaria\n",
        "funcion sobre un conjuntode datos linal y ordenado.\n",
        "consiste en dividir el conjunto en mitades y buscar en esa mitad.si el elemento\n",
        "buscado no esta a la derecha o ala izq.\n",
        "haces la lista igual a la mitad correspondiente y repites el proceso\n",
        "\n",
        "l=[numeros ordenados]\n",
        "der=longitud(l)-1\n",
        "izq=0\n",
        "mid=0 apuntara a la mitad del segmento de busqueda\n",
        "\n",
        "buscado:el valor a buscar\n",
        "1. hacer derecha der=longitud(l)-1\n",
        "2. hacer izq=0\n",
        "3. si izq > der significa que hay un error enlos datos\n",
        "4. calcular mid=int(izq+ der)/2\n",
        "5. mientras l[mid] != buscado hacer\n",
        "6. prreguntar si l[mid] es > buscado \n",
        "            - hacer der=mid \n",
        "  - de lo contrario \n",
        "      - izq= mid\n",
        "  - pregintar (der- izq)%2\n",
        "      - mid=(izq+((der-izq)/2))+1\n",
        "  - de lo contrario \n",
        "      - mid=izq+((der-izq)/2) \n",
        "7. return mid"
      ]
    },
    {
      "cell_type": "code",
      "metadata": {
        "id": "713PU_JfWJLD",
        "outputId": "3b20bd4e-bfa8-433a-c69a-6e740343ddb9",
        "colab": {
          "base_uri": "https://localhost:8080/"
        }
      },
      "source": [
        "\"\"\"busqueda inal regresa la posicion del elemento 'buscado' si se encuentra \n",
        "dentro de la lista\n",
        "regresa -1 al elemento buscado no exixte dentro de la lista\"\"\" \n",
        "\n",
        "def busq_lineal (L, buscado):\n",
        "  indice=-1\n",
        "  contador=0\n",
        "  for idx in range(len(L)):\n",
        "    contador +=1\n",
        "    if L[idx]== buscado:\n",
        "      indice=idx\n",
        "      break\n",
        "  print(f\"numero de comparaciones realizadas={contador}\")\n",
        "  return indice\n",
        "\n",
        "  \"\"\"\n",
        "  busqueda binaria\n",
        "\n",
        "  \"\"\"\n",
        "def busqueda_binaria (L, buscado):\n",
        "  IZQ=0\n",
        "  DER=len(L)-1\n",
        "  MID=int((IZQ+DER)/2)\n",
        "  if len(L)%2==0:\n",
        "    MID=DER//3\n",
        "  \n",
        "  while (L[MID]!= buscado):\n",
        "    if L[MID]>buscado:\n",
        "      DER=MID\n",
        "    else:\n",
        "      IZQ=MID\n",
        "    if (DER-IZQ)%2==0:\n",
        "      MID=(IZQ+((DER-IZQ)//2))+1\n",
        "    else:\n",
        "      MID=IZQ+((DER-IZQ)//2)\n",
        "  return MID\n",
        "\n",
        "\n",
        "\n",
        "def main():\n",
        "    datos = [ 4,18,47,2,34,14,78,12,48,21,31,19,1,3,5]\n",
        "    dato=int(input(\"que valor desea buscar:\"))\n",
        "    resultado=busq_lineal(datos,dato)\n",
        "    print(\"resultado:\",resultado)\n",
        "\n",
        "    print(\"busqueda lineal ordenada\")\n",
        "    datos.sort()\n",
        "    print(datos)\n",
        "    print(\"busqueda binaria\")\n",
        "    posicion=busqueda_binaria(datos,dato)\n",
        "    print(f\"el elemento\")\n",
        "\n",
        "\n",
        "\n",
        "\n",
        "main()"
      ],
      "execution_count": 7,
      "outputs": [
        {
          "output_type": "stream",
          "text": [
            "que valor desea buscar:1\n",
            "numero de comparaciones realizadas: 13\n",
            "resultado: 12\n",
            "busqueda lineal ordenada\n",
            "[1, 2, 3, 4, 5, 12, 14, 18, 19, 21, 31, 34, 47, 48, 78]\n"
          ],
          "name": "stdout"
        }
      ]
    }
  ]
}