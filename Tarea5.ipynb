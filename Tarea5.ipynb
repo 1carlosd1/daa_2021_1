{
  "nbformat": 4,
  "nbformat_minor": 0,
  "metadata": {
    "colab": {
      "name": "Tarea5.ipynb",
      "provenance": [],
      "authorship_tag": "ABX9TyM2KcUK1WheYKrcatD3atnI",
      "include_colab_link": true
    },
    "kernelspec": {
      "name": "python3",
      "display_name": "Python 3"
    }
  },
  "cells": [
    {
      "cell_type": "markdown",
      "metadata": {
        "id": "view-in-github",
        "colab_type": "text"
      },
      "source": [
        "<a href=\"https://colab.research.google.com/github/1carlosd1/daa_2021_1/blob/master/Tarea5.ipynb\" target=\"_parent\"><img src=\"https://colab.research.google.com/assets/colab-badge.svg\" alt=\"Open In Colab\"/></a>"
      ]
    },
    {
      "cell_type": "code",
      "metadata": {
        "id": "dAFaBMl0G1Pk",
        "outputId": "d5c0978c-e1d1-4222-e6d9-32a3a1ba1c24",
        "colab": {
          "base_uri": "https://localhost:8080/",
          "height": 357
        }
      },
      "source": [
        "from time import time\n",
        "def ejemplo1( n ):\n",
        "  start_time = time()\n",
        "  c = n + 1\n",
        "  d = c * n\n",
        "  e = n * n\n",
        "  total = c + e - d\n",
        "  print(f\"total={ total }\")\n",
        "  elapsed_time = time() - start_time\n",
        "  print(\"Tiempo transcurrido: %0.10f segundos.\" % elapsed_time)\n",
        "for entrada in range(100,1100,100):\n",
        "  ejemplo1(entrada)\n"
      ],
      "execution_count": null,
      "outputs": [
        {
          "output_type": "stream",
          "text": [
            "total=1\n",
            "Tiempo transcurrido: 0.0002574921 segundos.\n",
            "total=1\n",
            "Tiempo transcurrido: 0.0000188351 segundos.\n",
            "total=1\n",
            "Tiempo transcurrido: 0.0000190735 segundos.\n",
            "total=1\n",
            "Tiempo transcurrido: 0.0000133514 segundos.\n",
            "total=1\n",
            "Tiempo transcurrido: 0.0000140667 segundos.\n",
            "total=1\n",
            "Tiempo transcurrido: 0.0000123978 segundos.\n",
            "total=1\n",
            "Tiempo transcurrido: 0.0000128746 segundos.\n",
            "total=1\n",
            "Tiempo transcurrido: 0.0000255108 segundos.\n",
            "total=1\n",
            "Tiempo transcurrido: 0.0000209808 segundos.\n",
            "total=1\n",
            "Tiempo transcurrido: 0.0000212193 segundos.\n"
          ],
          "name": "stdout"
        }
      ]
    },
    {
      "cell_type": "code",
      "metadata": {
        "id": "TP3qYxdNJeud",
        "outputId": "6e36f0ce-396f-40cb-c5fe-7f6174263077",
        "colab": {
          "base_uri": "https://localhost:8080/",
          "height": 187
        }
      },
      "source": [
        "from time import time\n",
        "def ejemplo2( n ):\n",
        "  start_time = time()\n",
        "  contador = 0\n",
        "  for i in range( n ) :\n",
        "    for j in range( n ) :\n",
        "      contador += 1\n",
        "  elapsed_time = time() - start_time\n",
        "  print(\"Tiempo transcurrido: %0.10f segundos.\" % elapsed_time)\n",
        "  return contador\n",
        "for entrada in range(100,1100,100):\n",
        "  ejemplo2(entrada)"
      ],
      "execution_count": null,
      "outputs": [
        {
          "output_type": "stream",
          "text": [
            "Tiempo transcurrido: 0.0005438328 segundos.\n",
            "Tiempo transcurrido: 0.0017845631 segundos.\n",
            "Tiempo transcurrido: 0.0042254925 segundos.\n",
            "Tiempo transcurrido: 0.0079581738 segundos.\n",
            "Tiempo transcurrido: 0.0171959400 segundos.\n",
            "Tiempo transcurrido: 0.0232589245 segundos.\n",
            "Tiempo transcurrido: 0.0254409313 segundos.\n",
            "Tiempo transcurrido: 0.0338485241 segundos.\n",
            "Tiempo transcurrido: 0.0427539349 segundos.\n",
            "Tiempo transcurrido: 0.0534081459 segundos.\n"
          ],
          "name": "stdout"
        }
      ]
    },
    {
      "cell_type": "code",
      "metadata": {
        "id": "Bm86b9e0MSFW",
        "outputId": "cff594e1-13c9-4264-c5f6-748eaa9d06d9",
        "colab": {
          "base_uri": "https://localhost:8080/",
          "height": 187
        }
      },
      "source": [
        "from time import time\n",
        "def ejemplo3(n):\n",
        "  start_time = time()\n",
        "  x=n*2 #x=8\n",
        "  y=0\n",
        "  for m in range(100):\n",
        "    y=x-n \n",
        "  elapsed_time = time() - start_time\n",
        "  print(\"Tiempo transcurrido: %0.10f segundos.\" % elapsed_time)  \n",
        "  return y\n",
        "for entrada in range(100,1100,100):\n",
        "  ejemplo3(entrada)\n"
      ],
      "execution_count": null,
      "outputs": [
        {
          "output_type": "stream",
          "text": [
            "Tiempo transcurrido: 0.0000069141 segundos.\n",
            "Tiempo transcurrido: 0.0000071526 segundos.\n",
            "Tiempo transcurrido: 0.0000097752 segundos.\n",
            "Tiempo transcurrido: 0.0000092983 segundos.\n",
            "Tiempo transcurrido: 0.0000083447 segundos.\n",
            "Tiempo transcurrido: 0.0000085831 segundos.\n",
            "Tiempo transcurrido: 0.0000076294 segundos.\n",
            "Tiempo transcurrido: 0.0000085831 segundos.\n",
            "Tiempo transcurrido: 0.0000083447 segundos.\n",
            "Tiempo transcurrido: 0.0000085831 segundos.\n"
          ],
          "name": "stdout"
        }
      ]
    },
    {
      "cell_type": "code",
      "metadata": {
        "id": "PYUiIB75NSR-",
        "outputId": "64d743ee-8eef-4ff0-c895-bf9b2c52aaae",
        "colab": {
          "base_uri": "https://localhost:8080/",
          "height": 187
        }
      },
      "source": [
        "from time import time\n",
        "def ejemplo4( n ):\n",
        "  start_time = time()\n",
        "  x = 3 * 3.1416 + n\n",
        "  y = x + 3 * 3 - n\n",
        "  z = x + y\n",
        "  elapsed_time = time() - start_time\n",
        "  print(\"Tiempo transcurrido: %0.10f segundos.\" % elapsed_time)\n",
        "  return z\n",
        "for entrada in range(100,1100,100):\n",
        "  ejemplo4(entrada)\n"
      ],
      "execution_count": 20,
      "outputs": [
        {
          "output_type": "stream",
          "text": [
            "Tiempo transcurrido: 0.0000009537 segundos.\n",
            "Tiempo transcurrido: 0.0000009537 segundos.\n",
            "Tiempo transcurrido: 0.0000007153 segundos.\n",
            "Tiempo transcurrido: 0.0000009537 segundos.\n",
            "Tiempo transcurrido: 0.0000007153 segundos.\n",
            "Tiempo transcurrido: 0.0000004768 segundos.\n",
            "Tiempo transcurrido: 0.0000004768 segundos.\n",
            "Tiempo transcurrido: 0.0000004768 segundos.\n",
            "Tiempo transcurrido: 0.0000004768 segundos.\n",
            "Tiempo transcurrido: 0.0000009537 segundos.\n"
          ],
          "name": "stdout"
        }
      ]
    },
    {
      "cell_type": "code",
      "metadata": {
        "id": "B6x4HCKqOMwU",
        "outputId": "0028eec9-cf04-4d9b-b97f-75aa9ffc118d",
        "colab": {
          "base_uri": "https://localhost:8080/",
          "height": 187
        }
      },
      "source": [
        "from time import time\n",
        "def ejemplo5( x ):\n",
        "  start_time = time()\n",
        "  n = 10\n",
        "  for j in range( 0 , x , 1 ):\n",
        "    n = j + n\n",
        "  elapsed_time = time() - start_time\n",
        "  print(\"Tiempo transcurrido: %0.10f segundos.\" % elapsed_time)\n",
        "  return n\n",
        "for entrada in range(100,1100,100):\n",
        "  ejemplo5(entrada)"
      ],
      "execution_count": null,
      "outputs": [
        {
          "output_type": "stream",
          "text": [
            "Tiempo transcurrido: 0.0000088215 segundos.\n",
            "Tiempo transcurrido: 0.0000164509 segundos.\n",
            "Tiempo transcurrido: 0.0000269413 segundos.\n",
            "Tiempo transcurrido: 0.0000360012 segundos.\n",
            "Tiempo transcurrido: 0.0000636578 segundos.\n",
            "Tiempo transcurrido: 0.0000579357 segundos.\n",
            "Tiempo transcurrido: 0.0000660419 segundos.\n",
            "Tiempo transcurrido: 0.0000672340 segundos.\n",
            "Tiempo transcurrido: 0.0000767708 segundos.\n",
            "Tiempo transcurrido: 0.0000808239 segundos.\n"
          ],
          "name": "stdout"
        }
      ]
    },
    {
      "cell_type": "code",
      "metadata": {
        "id": "66OCW4DaO3vo",
        "outputId": "a0665feb-245a-44a9-cf91-26b468f87091",
        "colab": {
          "base_uri": "https://localhost:8080/",
          "height": 187
        }
      },
      "source": [
        "def ejemplo6( n ):\n",
        "  start_time = time()\n",
        "  data=[[[1 for x in range(n)] for x in range(n)]\n",
        "        for x in range(n)]\n",
        "  suma = 0\n",
        "  for d in range(n):\n",
        "    for r in range(n):\n",
        "      for c in range(n):\n",
        "        suma += data[d][r][c]\n",
        "    elapsed_time = time() - start_time\n",
        "    print(\"Tiempo transcurrido: %0.10f segundos.\" % elapsed_time)\n",
        "    return suma\n",
        "\n",
        "for entrada in range(100,1100,100):\n",
        "  ejemplo6(entrada)"
      ],
      "execution_count": null,
      "outputs": [
        {
          "output_type": "stream",
          "text": [
            "Tiempo transcurrido: 0.1198084354 segundos.\n",
            "Tiempo transcurrido: 0.3703362942 segundos.\n",
            "Tiempo transcurrido: 1.3943028450 segundos.\n",
            "Tiempo transcurrido: 3.7692041397 segundos.\n",
            "Tiempo transcurrido: 6.7920672894 segundos.\n",
            "Tiempo transcurrido: 13.0531136990 segundos.\n",
            "Tiempo transcurrido: 21.6907718182 segundos.\n",
            "Tiempo transcurrido: 32.2099492550 segundos.\n",
            "Tiempo transcurrido: 45.8027298450 segundos.\n",
            "Tiempo transcurrido: 66.1484649181 segundos.\n"
          ],
          "name": "stdout"
        }
      ]
    }
  ]
}