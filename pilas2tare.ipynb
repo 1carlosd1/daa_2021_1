{
  "nbformat": 4,
  "nbformat_minor": 0,
  "metadata": {
    "colab": {
      "name": "pilas2tare.ipynb",
      "provenance": [],
      "collapsed_sections": [],
      "include_colab_link": true
    },
    "kernelspec": {
      "name": "python3",
      "display_name": "Python 3"
    }
  },
  "cells": [
    {
      "cell_type": "markdown",
      "metadata": {
        "id": "view-in-github",
        "colab_type": "text"
      },
      "source": [
        "<a href=\"https://colab.research.google.com/github/1carlosd1/daa_2021_1/blob/master/pilas2tare.ipynb\" target=\"_parent\"><img src=\"https://colab.research.google.com/assets/colab-badge.svg\" alt=\"Open In Colab\"/></a>"
      ]
    },
    {
      "cell_type": "code",
      "metadata": {
        "id": "4YrDnwfc0y62"
      },
      "source": [
        "class Stack:\n",
        "  def __init__(self):\n",
        "    self.__datos=[]\n",
        "\n",
        "  def is_empty(self):\n",
        "    return len(self.__datos)==0\n",
        "\n",
        "  def get_top(self):\n",
        "    return self.__datos[-1]\n",
        "\n",
        "  def pop(self):\n",
        "    return self.__datos.pop()\n",
        "\n",
        "  def push(self,valor):\n",
        "    self.__datos.append(valor)\n",
        "\n",
        "  def get_length(self):\n",
        "    return len(self.__datos)\n",
        "\n",
        "  def to_string(self):\n",
        "    print(\"|------------------|\")\n",
        "    for j in self.__datos[-1::-1]:\n",
        "      print(j)\n",
        "      print(\"|------------------|\\n\")"
      ],
      "execution_count": null,
      "outputs": []
    },
    {
      "cell_type": "code",
      "metadata": {
        "id": "j6VCVfrf06sd",
        "outputId": "b03a526b-669d-482b-f94f-07b2d3357864",
        "colab": {
          "base_uri": "https://localhost:8080/"
        }
      },
      "source": [
        "pila2=Stack()\n",
        "bandera=0\n",
        "prueba=\"\"\"arr=[]\n",
        "palindromos=[]\n",
        "contador=0\n",
        "for i in range(len(h)):\n",
        "  for j in range(len(m)):\n",
        "    arr.append(h[i]+\":\"+m[j])\n",
        "print(arr)\n",
        "\n",
        "for k in range(0,len(arr)):\n",
        "  if (arr[k][0]==arr[k][4]) and (arr[k][1]==arr[k][3]):\n",
        "    print(arr[k])\n",
        "    contador+=1\n",
        "print(\"los palindromos encontrados fueron:\")\n",
        "print(contador)\"\"\"\n",
        "for i in range(0,len(prueba)):\n",
        "  if prueba[i]==(\"(\" or \"{\" or \"[\"):\n",
        "    pila2.push('@')\n",
        "  elif prueba[i]==(\")\" or \"}\" or \"]\"):\n",
        "    try:\n",
        "      pila2.pop()\n",
        "    except:\n",
        "      bandera=1\n",
        "      print(\"la ecuacion esta desbalanceada\")\n",
        "\n",
        "\n",
        "x=pila2.get_length()\n",
        "if x == 0 and bandera==0:\n",
        "  print(\"la ecuacion  esta balanceada\")\n",
        "elif bandera==0:\n",
        "  print(\"la ecuacion esta desbalanceada\")\n",
        "\n",
        "\n",
        "\n",
        "\n"
      ],
      "execution_count": 79,
      "outputs": [
        {
          "output_type": "stream",
          "text": [
            "la ecuacion  esta balanceada\n"
          ],
          "name": "stdout"
        }
      ]
    }
  ]
}