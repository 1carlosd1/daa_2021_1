{
  "nbformat": 4,
  "nbformat_minor": 0,
  "metadata": {
    "colab": {
      "name": "tarea4.ipynb",
      "provenance": [],
      "authorship_tag": "ABX9TyPkx1Zfuazb63Pp2UomQuGl",
      "include_colab_link": true
    },
    "kernelspec": {
      "name": "python3",
      "display_name": "Python 3"
    }
  },
  "cells": [
    {
      "cell_type": "markdown",
      "metadata": {
        "id": "view-in-github",
        "colab_type": "text"
      },
      "source": [
        "<a href=\"https://colab.research.google.com/github/1carlosd1/daa_2021_1/blob/master/tarea4.ipynb\" target=\"_parent\"><img src=\"https://colab.research.google.com/assets/colab-badge.svg\" alt=\"Open In Colab\"/></a>"
      ]
    },
    {
      "cell_type": "code",
      "metadata": {
        "id": "mWDoyEbriW7F",
        "outputId": "1385151c-eec1-45ef-da2d-33b8005f1be7",
        "colab": {
          "base_uri": "https://localhost:8080/",
          "height": 391
        }
      },
      "source": [
        "def ejemplo4(n):\n",
        "  count=0\n",
        "  i=n\n",
        "  print(\"primer nivel\")\n",
        "  while i>=1:\n",
        "    count+=1\n",
        "    i=i//2\n",
        "    print(\"segundo nivel\")\n",
        "  basura=3+2\n",
        "  return count\n",
        "\n",
        "print(ejemplo4(27))\n",
        "print(ejemplo4(5980))\n"
      ],
      "execution_count": 6,
      "outputs": [
        {
          "output_type": "stream",
          "text": [
            "primer nivel\n",
            "segundo nivel\n",
            "segundo nivel\n",
            "segundo nivel\n",
            "segundo nivel\n",
            "segundo nivel\n",
            "5\n",
            "primer nivel\n",
            "segundo nivel\n",
            "segundo nivel\n",
            "segundo nivel\n",
            "segundo nivel\n",
            "segundo nivel\n",
            "segundo nivel\n",
            "segundo nivel\n",
            "segundo nivel\n",
            "segundo nivel\n",
            "segundo nivel\n",
            "segundo nivel\n",
            "segundo nivel\n",
            "segundo nivel\n",
            "13\n"
          ],
          "name": "stdout"
        }
      ]
    }
  ]
}