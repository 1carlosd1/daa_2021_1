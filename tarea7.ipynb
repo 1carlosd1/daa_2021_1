{
  "nbformat": 4,
  "nbformat_minor": 0,
  "metadata": {
    "colab": {
      "name": "tarea7.ipynb",
      "provenance": [],
      "authorship_tag": "ABX9TyMhPERpRirmw+QM3T8qm6O/",
      "include_colab_link": true
    },
    "kernelspec": {
      "name": "python3",
      "display_name": "Python 3"
    }
  },
  "cells": [
    {
      "cell_type": "markdown",
      "metadata": {
        "id": "view-in-github",
        "colab_type": "text"
      },
      "source": [
        "<a href=\"https://colab.research.google.com/github/1carlosd1/daa_2021_1/blob/master/tarea7.ipynb\" target=\"_parent\"><img src=\"https://colab.research.google.com/assets/colab-badge.svg\" alt=\"Open In Colab\"/></a>"
      ]
    },
    {
      "cell_type": "code",
      "metadata": {
        "colab": {
          "base_uri": "https://localhost:8080/"
        },
        "id": "nHmaWjrQmlwM",
        "outputId": "881f34ca-54c2-4df5-81a8-ad005cb4caec"
      },
      "source": [
        "def sumare(arr,suma,i):\n",
        "  if i>0:\n",
        "    suma=suma+arr[i-1]\n",
        "    i-=1\n",
        "    sumare(arr,suma,i)\n",
        "  else:\n",
        "    print(\"la suma es:\",suma)\n",
        "\n",
        "arreglo=[12,4,1,6,9,2,13]\n",
        "i=len(arreglo)\n",
        "tot=0\n",
        "print(\"el arreglo es: \",arreglo)\n",
        "sumare(arreglo,tot,i)"
      ],
      "execution_count": 12,
      "outputs": [
        {
          "output_type": "stream",
          "text": [
            "el arreglo es:  [12, 4, 1, 6, 9, 2, 13]\n",
            "la suma es: 47\n"
          ],
          "name": "stdout"
        }
      ]
    },
    {
      "cell_type": "code",
      "metadata": {
        "colab": {
          "base_uri": "https://localhost:8080/"
        },
        "id": "zNEOxI41pcxI",
        "outputId": "d7f1d364-f5e4-4ac2-e95d-2b431528f64e"
      },
      "source": [
        "def regresivo(i):\n",
        "  if(i>0):\n",
        "    print(i)\n",
        "    regresivo(i-1)\n",
        "\n",
        "regresivo(8)"
      ],
      "execution_count": 15,
      "outputs": [
        {
          "output_type": "stream",
          "text": [
            "8\n",
            "7\n",
            "6\n",
            "5\n",
            "4\n",
            "3\n",
            "2\n",
            "1\n"
          ],
          "name": "stdout"
        }
      ]
    },
    {
      "cell_type": "code",
      "metadata": {
        "colab": {
          "base_uri": "https://localhost:8080/"
        },
        "id": "0CZDOBO7sD8a",
        "outputId": "3fe68920-acb8-428c-fce8-91c5aedc3464"
      },
      "source": [
        "\n",
        "class Stack:\n",
        "  def __init__(self):\n",
        "    self.__datos=[]\n",
        "  def is_empty(self):\n",
        "    return len(self.__datos)==0\n",
        "  def get_top(self):\n",
        "    return self.__datos[-1]\n",
        "  def pop(self):\n",
        "    return self.__datos.pop()\n",
        "  def push(self,valor):\n",
        "    self.__datos.append(valor)\n",
        "  def get_length(self):\n",
        "    return len(self.__datos)\n",
        "  def to_string(self):\n",
        "    print(\"-------------------------\")\n",
        "    for i in self.__datos[-1::-1]:\n",
        "      print(i)\n",
        "    print(\"-------------------------\")\n",
        "    print()\n",
        "\n",
        "\n",
        "\n",
        "def medio(pila,m,x,i):\n",
        "    bandera=0\n",
        "    if m>i:\n",
        "      x=pila.pop()\n",
        "      i+=1\n",
        "      medio(pila,m,x,i)\n",
        "    if m==i:\n",
        "      pila.pop()\n",
        "    pila.push(x)\n",
        "\n",
        "pila=Stack()\n",
        "pila.push(3)\n",
        "pila.push(6)\n",
        "pila.push(11)\n",
        "pila.push(4)\n",
        "pila.push(5)\n",
        "pila.push(8)\n",
        "pila.push(13)\n",
        "m=pila.get_length()//2\n",
        "pila.to_string()\n",
        "medio(pila,m,0,0)\n",
        "pila.to_string()"
      ],
      "execution_count": 20,
      "outputs": [
        {
          "output_type": "stream",
          "text": [
            "-------------------------\n",
            "13\n",
            "8\n",
            "5\n",
            "4\n",
            "11\n",
            "6\n",
            "3\n",
            "-------------------------\n",
            "\n",
            "-------------------------\n",
            "13\n",
            "8\n",
            "5\n",
            "11\n",
            "6\n",
            "3\n",
            "-------------------------\n",
            "\n"
          ],
          "name": "stdout"
        }
      ]
    }
  ]
}