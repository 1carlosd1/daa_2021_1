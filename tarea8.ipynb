{
  "nbformat": 4,
  "nbformat_minor": 0,
  "metadata": {
    "colab": {
      "name": "tarea8.ipynb",
      "provenance": [],
      "authorship_tag": "ABX9TyNoTGJ1lRBe9Dtu5zmGWn97",
      "include_colab_link": true
    },
    "kernelspec": {
      "name": "python3",
      "display_name": "Python 3"
    }
  },
  "cells": [
    {
      "cell_type": "markdown",
      "metadata": {
        "id": "view-in-github",
        "colab_type": "text"
      },
      "source": [
        "<a href=\"https://colab.research.google.com/github/1carlosd1/daa_2021_1/blob/master/tarea8.ipynb\" target=\"_parent\"><img src=\"https://colab.research.google.com/assets/colab-badge.svg\" alt=\"Open In Colab\"/></a>"
      ]
    },
    {
      "cell_type": "code",
      "metadata": {
        "colab": {
          "base_uri": "https://localhost:8080/"
        },
        "id": "kHp5JJHJrGiL",
        "outputId": "d201f659-9889-4268-b4a9-642a2974e462"
      },
      "source": [
        "alumno1={'id':2, 'nombre':\"Juan\" , 'carrera':\"ICO\", 'promedio':7.67}\n",
        "alumno2={'id':4, 'nombre':\"Rocio\" , 'carrera':\"ICI\", 'promedio':8.67}\n",
        "alumno3={'id':5, 'nombre':\"Diego\" , 'carrera':\"DER\", 'promedio':8.98}\n",
        "alumno4={'id':7, 'nombre':\"May\" , 'carrera':\"ICI\", 'promedio':9.87}\n",
        "alumno5={'id':9, 'nombre':\"Rob\" , 'carrera':\"IME\", 'promedio':10.00}\n",
        "alumno6={'id':10, 'nombre':\"Santi\" , 'carrera':\"ICO\", 'promedio':5.37}\n",
        "alumno7={'id':14, 'nombre':\"Moy\" , 'carrera':\"IME\", 'promedio':6.85}\n",
        "alumno8={'id':16, 'nombre':\"Diana\" , 'carrera':\"DER\", 'promedio':9.99}\n",
        "alumno9={'id':19, 'nombre':\"Zoila\" , 'carrera':\"ICO\", 'promedio':8.22}\n",
        "alumno10={'id':22, 'nombre':\"Armando\" , 'carrera':\"ICO\", 'promedio':7.32}\n",
        "\n",
        "bd = []\n",
        "bd.append(alumno1)\n",
        "bd.append(alumno2)\n",
        "bd.append(alumno3)\n",
        "bd.append(alumno4)\n",
        "bd.append(alumno5)\n",
        "bd.append(alumno6)\n",
        "bd.append(alumno7)\n",
        "bd.append(alumno8)\n",
        "bd.append(alumno9)\n",
        "bd.append(alumno10)\n",
        "\n",
        "def busrecur(bd,key,i,iz,de):\n",
        "    medio=(iz+de)//2\n",
        "    if i>=len(bd):\n",
        "      print(\"el alumno no exite\")\n",
        "      return 0\n",
        "    if bd[medio][\"id\"] == key:\n",
        "      print(bd[medio][\"nombre\"],\"estudia la carrera\",bd[medio][\"carrera\"],\"y tiene un promedio de\",bd[medio][\"promedio\"])\n",
        "      return 0\n",
        "    i=i+1\n",
        "    if key > bd[medio][\"id\"]:\n",
        "      busrecur(bd,key,i,medio,de)\n",
        "    if key < bd[medio][\"id\"]:\n",
        "      busrecur(bd,key,i,iz,medio)\n",
        "#print(bd)\n",
        "\n",
        "\n",
        "\n",
        "key=int(input(\"¿Dame el id del alumno a buscar?: \"))\n",
        "busrecur(bd,key,0,0,len(bd))\n",
        "\n",
        "\n"
      ],
      "execution_count": 5,
      "outputs": [
        {
          "output_type": "stream",
          "text": [
            "¿Dame el id del alumno a buscar?: 14\n",
            "Moy estudia la carrera IME y tiene un promedio de 6.85\n"
          ],
          "name": "stdout"
        }
      ]
    }
  ]
}